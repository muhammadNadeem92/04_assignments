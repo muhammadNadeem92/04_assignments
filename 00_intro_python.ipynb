{
  "nbformat": 4,
  "nbformat_minor": 0,
  "metadata": {
    "colab": {
      "provenance": [],
      "authorship_tag": "ABX9TyOerW0khTPi023ia3gWYcDj",
      "include_colab_link": true
    },
    "kernelspec": {
      "name": "python3",
      "display_name": "Python 3"
    },
    "language_info": {
      "name": "python"
    }
  },
  "cells": [
    {
      "cell_type": "markdown",
      "metadata": {
        "id": "view-in-github",
        "colab_type": "text"
      },
      "source": [
        "<a href=\"https://colab.research.google.com/github/muhammadNadeem92/04_assignments/blob/main/00_intro_python.ipynb\" target=\"_parent\"><img src=\"https://colab.research.google.com/assets/colab-badge.svg\" alt=\"Open In Colab\"/></a>"
      ]
    },
    {
      "cell_type": "code",
      "execution_count": null,
      "metadata": {
        "id": "f1_S5s9kccKC",
        "colab": {
          "base_uri": "https://localhost:8080/"
        },
        "outputId": "c85743ef-57e6-476b-a160-1a048ca2c230"
      },
      "outputs": [
        {
          "output_type": "stream",
          "name": "stdout",
          "text": [
            "This program add two numbers\n",
            "\n",
            "\n",
            "Enter first number:9\n",
            "Enter second number:9\n",
            "Total is: 18\n"
          ]
        }
      ],
      "source": [
        "# 01_add_two_numbers\n",
        "def main():\n",
        "    print(\"This program add two numbers\\n\")\n",
        "    first_number:str = input(\"Enter first number:\")\n",
        "    first_number:int = int(first_number)\n",
        "    second_number:str = input(\"Enter second number:\")\n",
        "    second_number:int = int(second_number)\n",
        "    total:int = first_number+ second_number\n",
        "    print(\"Total is:\", total)\n",
        "\n",
        "if __name__ == '__main__':\n",
        "    main()"
      ]
    },
    {
      "cell_type": "code",
      "source": [
        "# 02_agreement_bot\n",
        "def main():\n",
        "    print(\"This program is an agreement bot\\n\")\n",
        "    user_input:str = input(\"What is your favorite animal? \")\n",
        "    print(f\"My favorite animal is also {user_input}!\")\n",
        "\n",
        "if __name__ == '__main__':\n",
        "    main()"
      ],
      "metadata": {
        "colab": {
          "base_uri": "https://localhost:8080/"
        },
        "id": "psxlyJE_uzMB",
        "outputId": "b994946c-99ed-487b-e029-fd9ee615dc62"
      },
      "execution_count": null,
      "outputs": [
        {
          "output_type": "stream",
          "name": "stdout",
          "text": [
            "This program is an agreement bot\n",
            "\n",
            "What is your favorite animal? dog\n",
            "My favorite animal is also dog!\n"
          ]
        }
      ]
    },
    {
      "cell_type": "code",
      "source": [
        "# 03_fahrenheit_to_celsius\n",
        "def main():\n",
        "    print(\"This program converts Fahrenheit to Celsius\\n\")\n",
        "    fahrenheit_input = input(\"Enter temperature in Fahrenheit:\")\n",
        "    fahrenheit_input = int(fahrenheit_input)\n",
        "    degrees_celsius =(fahrenheit_input - 32) *5/9\n",
        "    print(f\"Temperature: {fahrenheit_input}F = {degrees_celsius}C\")\n",
        "\n",
        "if __name__=='__main__':\n",
        "  main(\n",
        "\n",
        "  )"
      ],
      "metadata": {
        "colab": {
          "base_uri": "https://localhost:8080/"
        },
        "id": "SoQAvpBV0J8a",
        "outputId": "932f933e-6488-4de4-bd8e-703e9cbb61de"
      },
      "execution_count": null,
      "outputs": [
        {
          "output_type": "stream",
          "name": "stdout",
          "text": [
            "This program converts Fahrenheit to Celsius\n",
            "\n",
            "Enter temperature in Fahrenheit:34\n",
            "Temperature: 34F = 1C\n"
          ]
        }
      ]
    },
    {
      "cell_type": "code",
      "source": [
        "# 04_how_old_are_they\n",
        "def main():\n",
        "    print(\"This program calculates how old they are\\n\")\n",
        "\n",
        "    anton_age:int = 21\n",
        "    beth_age:int = 6 + anton_age\n",
        "    chen_age:int = 20 + beth_age\n",
        "    drew_age:int = chen_age + anton_age\n",
        "    enthen_age:int = chen_age\n",
        "\n",
        "    print(f\"Anton is {anton_age} years old.\")\n",
        "    print(f\"Beth is {beth_age} years old.\")\n",
        "    print(f\"Chen is {chen_age} years old.\")\n",
        "    print(f\"Drew is {drew_age} years old.\")\n",
        "\n",
        "\n",
        "\n",
        "# This provided line is required at the end of\n",
        "# Python file to call the main() function.\n",
        "if __name__ == '__main__':\n",
        "    main()"
      ],
      "metadata": {
        "colab": {
          "base_uri": "https://localhost:8080/"
        },
        "id": "6v3VwJPFL6Ro",
        "outputId": "417f91d0-0112-4ff6-97d3-f0b31c82a163"
      },
      "execution_count": null,
      "outputs": [
        {
          "output_type": "stream",
          "name": "stdout",
          "text": [
            "This program calculates how old they are\n",
            "\n",
            "Anton is 21 years old.\n",
            "Beth is 27 years old.\n",
            "Chen is 47 years old.\n",
            "Drew is 68 years old.\n"
          ]
        }
      ]
    },
    {
      "cell_type": "code",
      "source": [
        "# 05_triangle_perimeter\n",
        "def main():\n",
        "    print(\"this program is calculate triangle sides \\n\")\n",
        "\n",
        "    side_1 = float (input(\"What is the length of side 1? \"))\n",
        "\n",
        "    side_2 = float (input(\"What is the length of side 2? \"))\n",
        "\n",
        "    side_3 = float  (input(\"What is the length of side 3? \"))\n",
        "\n",
        "    total = side_1  +side_2 + side_3\n",
        "\n",
        "    print(\"The perimeter of the triangle is \", total )\n",
        "\n",
        "if __name__== '__main__':\n",
        "    main()\n"
      ],
      "metadata": {
        "colab": {
          "base_uri": "https://localhost:8080/"
        },
        "id": "j_LnjK1RRRrP",
        "outputId": "65c86bb3-04b6-4a7e-d253-01c0fdd55391"
      },
      "execution_count": null,
      "outputs": [
        {
          "output_type": "stream",
          "name": "stdout",
          "text": [
            "this program is calculate triangle sides \n",
            "\n",
            "What is the length of side 1? 4\n",
            "What is the length of side 2? 8\n",
            "What is the length of side 3? 3\n",
            "The perimeter of the triangle is  15.0\n"
          ]
        }
      ]
    },
    {
      "cell_type": "code",
      "source": [
        "# 06_square_number\n",
        "def main():\n",
        "  print(\"This program squares a number\\n\")\n",
        "  num = float(input(\"Type a number to see its square : \"))\n",
        "  num_squared = num ** 2\n",
        "  print(f\"The square of {num} is {num_squared}\")\n",
        "\n",
        "if __name__ == '__main__':\n",
        "    main()\n"
      ],
      "metadata": {
        "colab": {
          "base_uri": "https://localhost:8080/"
        },
        "id": "ztE7z6TcAXQi",
        "outputId": "c6ae953b-ce54-4688-a63d-f1988a61fb05"
      },
      "execution_count": null,
      "outputs": [
        {
          "output_type": "stream",
          "name": "stdout",
          "text": [
            "This program squares a number\n",
            "\n",
            "Type a number to see its square : 3.5\n",
            "The square of 3.5 is 12.25\n"
          ]
        }
      ]
    }
  ]
}